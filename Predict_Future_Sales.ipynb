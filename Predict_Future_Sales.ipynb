{
 "cells": [
  {
   "cell_type": "code",
   "execution_count": 2,
   "metadata": {
    "collapsed": false
   },
   "outputs": [],
   "source": [
    "import os, sys\n",
    "import numpy as np\n",
    "import pandas as pd\n",
    "import seaborn as sns\n",
    "import matplotlib.pyplot as plt"
   ]
  },
  {
   "cell_type": "code",
   "execution_count": 3,
   "metadata": {
    "collapsed": true
   },
   "outputs": [],
   "source": [
    "%matplotlib inline\n",
    "sns.set(style=\"darkgrid\")\n",
    "pd.set_option('display.float_format', lambda x: '%.2f' % x)"
   ]
  },
  {
   "cell_type": "code",
   "execution_count": 4,
   "metadata": {},
   "outputs": [],
   "source": [
    "s=os.getcwd()"
   ]
  },
  {
   "cell_type": "code",
   "execution_count": 6,
   "metadata": {},
   "outputs": [],
   "source": [
    "items = pd.read_csv(s+'/all/items.csv')\n",
    "shops = pd.read_csv(s+'/all/shops.csv')\n",
    "cats = pd.read_csv(s+'/all/item_categories.csv')\n",
    "sales = pd.read_csv(s+'/all/sales_train.csv')\n",
    "test = pd.read_csv(s+'/all/test.csv').set_index('ID')"
   ]
  },
  {
   "cell_type": "code",
   "execution_count": 8,
   "metadata": {},
   "outputs": [],
   "source": [
    "train = sales.join(items, on='item_id', rsuffix='_').join(shops, on='shop_id', rsuffix='_').join(cats, on='item_category_id', rsuffix='_').drop(['item_id_', 'shop_id_', 'item_category_id_'], axis=1)"
   ]
  },
  {
   "cell_type": "code",
   "execution_count": 9,
   "metadata": {
    "collapsed": false
   },
   "outputs": [
    {
     "data": {
      "text/plain": [
       "(2935849, 10)"
      ]
     },
     "execution_count": 9,
     "metadata": {},
     "output_type": "execute_result"
    }
   ],
   "source": [
    "train.shape"
   ]
  },
  {
   "cell_type": "code",
   "execution_count": 21,
   "metadata": {},
   "outputs": [
    {
     "name": "stdout",
     "output_type": "stream",
     "text": [
      "              date  date_block_num    shop_id    item_id  item_price  \\\ncount      2935847      2935847.00 2935847.00 2935847.00  2935847.00   \nunique        1034             nan        nan        nan         nan   \ntop     28.12.2013             nan        nan        nan         nan   \nfreq          9434             nan        nan        nan         nan   \nmean           NaN           14.57      33.00   10197.23      890.75   \nstd            NaN            9.42      16.23    6324.30     1720.49   \nmin            NaN            0.00       0.00       0.00        0.07   \n25%            NaN            7.00      22.00    4476.00      249.00   \n50%            NaN           14.00      31.00    9343.00      399.00   \n75%            NaN           23.00      47.00   15684.00      999.00   \nmax            NaN           33.00      59.00   22169.00    59200.00   \n\n        item_cnt_day                                          item_name  \\\ncount     2935847.00                                            2935847   \nunique           nan                                              21806   \ntop              nan  Фирменный пакет майка 1С Интерес белый (34*42)...   \nfreq             nan                                              31340   \nmean            1.24                                                NaN   \nstd             2.29                                                NaN   \nmin           -22.00                                                NaN   \n25%             1.00                                                NaN   \n50%             1.00                                                NaN   \n75%             1.00                                                NaN   \nmax          1000.00                                                NaN   \n\n        item_category_id                shop_name item_category_name  \ncount         2935847.00                  2935847            2935847  \nunique               nan                       60                 84  \ntop                  nan  Москва ТЦ \"Семеновский\"         Кино - DVD  \nfreq                 nan                   235636             564652  \nmean               40.00                      NaN                NaN  \nstd                17.10                      NaN                NaN  \nmin                 0.00                      NaN                NaN  \n25%                28.00                      NaN                NaN  \n50%                40.00                      NaN                NaN  \n75%                55.00                      NaN                NaN  \nmax                83.00                      NaN                NaN  \n"
     ]
    }
   ],
   "source": [
    "print(train.describe(include=\"all\"))"
   ]
  },
  {
   "cell_type": "code",
   "execution_count": 11,
   "metadata": {},
   "outputs": [
    {
     "data": {
      "text/plain": [
       "<matplotlib.axes._subplots.AxesSubplot at 0x7fd2c0c7edd8>"
      ]
     },
     "execution_count": 11,
     "metadata": {},
     "output_type": "execute_result"
    },
    {
     "data": {
      "image/png": "[encoded data removed]",
      "text/plain": [
       "<Figure size 1080x504 with 1 Axes>"
      ]
     },
     "metadata": {},
     "output_type": "display_data"
    },
    {
     "data": {
      "image/png": "[encoded data removed]",
      "text/plain": [
       "<Figure size 1080x504 with 1 Axes>"
      ]
     },
     "metadata": {},
     "output_type": "display_data"
    }
   ],
   "source": [
    "plt.figure(figsize=(15,7))\n",
    "plt.xlim(train.item_cnt_day.min()*1.5, train.item_cnt_day.max()*1.1)\n",
    "sns.boxplot(x=train.item_cnt_day)\n",
    "\n",
    "plt.figure(figsize=(15,7))\n",
    "plt.xlim(train.item_price.min(), train.item_price.max()*1.1)\n",
    "sns.boxplot(x=train.item_price)"
   ]
  },
  {
   "cell_type": "code",
   "execution_count": 12,
   "metadata": {},
   "outputs": [],
   "source": [
    "median = train.item_price.median()\n",
    "train.loc[train.item_price<0, 'item_price'] = median\n",
    "train = train[train.item_price<100000]"
   ]
  },
  {
   "cell_type": "code",
   "execution_count": 13,
   "metadata": {},
   "outputs": [
    {
     "data": {
      "text/plain": [
       "<matplotlib.axes._subplots.AxesSubplot at 0x7fd2bfd357b8>"
      ]
     },
     "execution_count": 13,
     "metadata": {},
     "output_type": "execute_result"
    },
    {
     "data": {
      "image/png": "[encoded data removed]",
      "text/plain": [
       "<Figure size 1080x504 with 1 Axes>"
      ]
     },
     "metadata": {},
     "output_type": "display_data"
    }
   ],
   "source": [
    "plt.figure(figsize=(15,7))\n",
    "plt.xlim(train.item_price.min(), train.item_price.max()*1.1)\n",
    "sns.boxplot(x=train.item_price)"
   ]
  },
  {
   "cell_type": "code",
   "execution_count": 15,
   "metadata": {},
   "outputs": [],
   "source": [
    "train = train[train.item_cnt_day<1500]"
   ]
  },
  {
   "cell_type": "code",
   "execution_count": 16,
   "metadata": {},
   "outputs": [],
   "source": [
    "test_shop_ids = test['shop_id'].unique()\n",
    "test_item_ids = test['item_id'].unique()\n",
    "lk_train = train[train['shop_id'].isin(test_shop_ids)]\n",
    "lk_train = lk_train[lk_train['item_id'].isin(test_item_ids)]"
   ]
  },
  {
   "cell_type": "code",
   "execution_count": 19,
   "metadata": {},
   "outputs": [],
   "source": [
    "train_monthly = lk_train[['date', 'date_block_num', 'shop_id', 'item_category_id', 'item_id', 'item_price', 'item_cnt_day']]"
   ]
  },
  {
   "cell_type": "code",
   "execution_count": 20,
   "metadata": {
    "collapsed": true
   },
   "outputs": [
    {
     "name": "stdout",
     "output_type": "stream",
     "text": [
      "       date_block_num    shop_id  item_category_id    item_id  item_price  \\\ncount      1224438.00 1224438.00        1224438.00 1224438.00  1224438.00   \nmean            19.35      32.15             40.56    9614.86     1030.67   \nstd              9.11      16.47             18.61    6299.87     1827.38   \nmin              0.00       2.00              2.00      30.00        0.50   \n25%             12.00      19.00             25.00    4181.00      299.00   \n50%             21.00      31.00             38.00    7856.00      549.00   \n75%             27.00      46.00             55.00   15229.00     1199.00   \nmax             33.00      59.00             83.00   22167.00    59200.00   \n\n       item_cnt_day  \ncount    1224438.00  \nmean           1.32  \nstd            2.67  \nmin          -16.00  \n25%            1.00  \n50%            1.00  \n75%            1.00  \nmax         1000.00  \n"
     ]
    }
   ],
   "source": [
    "train_monthly.shape\n",
    "print(train_monthly.describe())"
   ]
  },
  {
   "cell_type": "code",
   "execution_count": null,
   "metadata": {},
   "outputs": [],
   "source": []
  }
 ],
 "metadata": {
  "kernelspec": {
   "display_name": "Python 2",
   "language": "python",
   "name": "python2"
  },
  "language_info": {
   "codemirror_mode": {
    "name": "ipython",
    "version": 2
   },
   "file_extension": ".py",
   "mimetype": "text/x-python",
   "name": "python",
   "nbconvert_exporter": "python",
   "pygments_lexer": "ipython2",
   "version": "2.7.6"
  }
 },
 "nbformat": 4,
 "nbformat_minor": 0
}
